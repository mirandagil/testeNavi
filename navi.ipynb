{
 "cells": [
  {
   "cell_type": "markdown",
   "metadata": {},
   "source": [
    "# Navi Capital | Summer Job - Teste Python\n",
    "---\n",
    "> <b>Gil Sales Miranda Neto</b><br>\n",
    "> <b>gil@matematica.ufrj.br</b><br>\n",
    "> Bach. Matemática Aplicada - UFRJ"
   ]
  },
  {
   "cell_type": "markdown",
   "metadata": {},
   "source": [
    "# 01\n",
    "\n",
    "Apresentamos três algoritmos:\n",
    "O primeiro `paresMultiplos()` utiliza `Python`, usando um `list comprehension` para criar uma lista com os múltiplos pares de `37` e `49`, o resultado é obtido retornando o tamanho desta lista.<br>\n",
    "\n",
    "O segundo, `paresMultiplosUnpack`, cria um objeto `range` com todos os múltiplos pares de $37$ e $49$, e utiliza o operador `unpack *` para gerar uma lista e contar os elementos<br>\n",
    "\n",
    "O terceiro, `paresMultiplosMat()` utiliza de fatos matemáticos para chegar mais facilmente ao resultado desejado, se $37\\cdot 49$ for ímpar, então basta sabermos quantos múltiplos existem até $5000000$,  isto é feito com uma divisão $\\frac{5000000}{37\\cdot49}$ os termos pares serão exatamente metade dessa quantidade, pois será par apenas aqueles termos que sejam também múltiplos de um número par. Se $37\\cdot 49$ for par, então todos os múltiplos até $5000000$ também é múltiplo de um par, e portanto, par.\n",
    "<br><br>\n",
    "Todas as implementações possuem parâmetros para retornar o múltiplo de qualquer número, até qualquer limite"
   ]
  },
  {
   "cell_type": "code",
   "execution_count": 1,
   "metadata": {},
   "outputs": [],
   "source": [
    "def paresMultiplos(n = 5000000, step = 37*49):\n",
    "    rng = [i*step for i in range(1,int(n/step) +1) if i*step%2 == 0]\n",
    "    return len(rng)"
   ]
  },
  {
   "cell_type": "code",
   "execution_count": 2,
   "metadata": {},
   "outputs": [],
   "source": [
    "def paresMultiplosUnpack(n = 5000000, step = 37*49):\n",
    "    if step % 2 == 0:\n",
    "        m = 1\n",
    "    else:\n",
    "        m = 2\n",
    "    rng = range(step*m, n, step*m)\n",
    "    return len([*rng])"
   ]
  },
  {
   "cell_type": "code",
   "execution_count": 3,
   "metadata": {},
   "outputs": [],
   "source": [
    "def paresMultiplosMat(n = 5000000, step = 37*49):\n",
    "    if step % 2 == 0:\n",
    "        m = 1\n",
    "    else:\n",
    "        m = 1/2\n",
    "    return int(n/step * m)"
   ]
  },
  {
   "cell_type": "code",
   "execution_count": 4,
   "metadata": {},
   "outputs": [
    {
     "name": "stdout",
     "output_type": "stream",
     "text": [
      "CPU times: user 862 µs, sys: 0 ns, total: 862 µs\n",
      "Wall time: 906 µs\n"
     ]
    },
    {
     "data": {
      "text/plain": [
       "1378"
      ]
     },
     "execution_count": 4,
     "metadata": {},
     "output_type": "execute_result"
    }
   ],
   "source": [
    "%%time\n",
    "paresMultiplos()"
   ]
  },
  {
   "cell_type": "code",
   "execution_count": 5,
   "metadata": {
    "tags": []
   },
   "outputs": [
    {
     "name": "stdout",
     "output_type": "stream",
     "text": [
      "CPU times: user 111 µs, sys: 20 µs, total: 131 µs\n",
      "Wall time: 138 µs\n"
     ]
    },
    {
     "data": {
      "text/plain": [
       "1378"
      ]
     },
     "execution_count": 5,
     "metadata": {},
     "output_type": "execute_result"
    }
   ],
   "source": [
    "%%time\n",
    "paresMultiplosUnpack()"
   ]
  },
  {
   "cell_type": "code",
   "execution_count": 6,
   "metadata": {},
   "outputs": [
    {
     "name": "stdout",
     "output_type": "stream",
     "text": [
      "CPU times: user 7 µs, sys: 1 µs, total: 8 µs\n",
      "Wall time: 13.4 µs\n"
     ]
    },
    {
     "data": {
      "text/plain": [
       "1378"
      ]
     },
     "execution_count": 6,
     "metadata": {},
     "output_type": "execute_result"
    }
   ],
   "source": [
    "%%time\n",
    "paresMultiplosMat()"
   ]
  },
  {
   "cell_type": "markdown",
   "metadata": {},
   "source": [
    "---\n",
    "# 02"
   ]
  },
  {
   "cell_type": "code",
   "execution_count": 7,
   "metadata": {},
   "outputs": [],
   "source": [
    "import numpy as np"
   ]
  },
  {
   "cell_type": "markdown",
   "metadata": {},
   "source": [
    "Para a implementação do algoritmo, usamos um `list comprehension` para gerar o vetor $X$, em termos de custo computacional, a implementação de cálculo da função `math.gamma` é mais rápida do que `math.factorial`, portanto utilizamos a chamada da função gamma\n",
    "$$\n",
    "\\Gamma(n+1) = (n)!\n",
    "$$\n",
    "\n",
    "A solução do problema está implementado na função `vetorX()`\n",
    "\n",
    "---\n",
    "Apresentamos também uma segunda solução do problema, que não passa pela construção do vetor `X`, que pode ser custosa por envolver quantidades muito grandes a medida que $n$ cresce, para isso usaremos matemática, essa solução extra está implementada na função `vetorXMat()`:<br>\n",
    "Temos duas funções que regem as entradas do vetor: $g(x) = 3^x + 7x!$ e $h(x) = 2^x + 4\\ln(x)$, temos que os seguintes limites divergem\n",
    "$$\n",
    "\\lim_{x \\to \\infty} \\frac{3^x}{2^x} = \\infty\\\\\n",
    "\\lim_{x \\to \\infty} \\frac{7x!}{\\ln(x)} = \\infty\\\\\n",
    "$$\n",
    "Portanto temos que $g(x)$ cresce mais rapidamente do que $h(x)$, em particular, para qualquer valor de $x$, temos que \n",
    "$$\n",
    "g(x) > h(x+1)\n",
    "$$\n",
    "unindo isto ao fato de que $g(x)$ é injetiva e não-decrescente, podemos chegar ao resultado de que a maior entrada númerica do vetor $X$ será a última entrada que leva $g(x)$, portanto seu indíce será o último indíce par do vetor.\n",
    "<br><br>\n",
    "Para o cálculo da média, podemos derivar uma quase fórmula fechada, a média do vetor $X$ é dada pelo somatório a seguir\n",
    "$$\n",
    "M = \\frac{1}{n}\\left(\\sum_{i=0}^{\\frac{n-1}{2}}3^{2i} + 7(2i)! + 2^{2i + 1} + 4\\ln(2i+1)\\right)\n",
    "$$\n",
    "Que pela propriedade associativa da soma, podemos escrever\n",
    "$$\n",
    "M = \\frac{1}{n}\\left(\\sum_{i=0}^{\\frac{n-1}{2}}3^{2i} + 7\\sum_{i=0}^{\\frac{n-1}{2}}(2i)! + 2\\sum_{i=0}^{\\frac{n-1}{2}}2^{2i} + 4\\sum_{i=0}^{\\frac{n-1}{2}}\\ln(2i+1)\\right)\n",
    "$$\n",
    "O primeiro e o terceiro termo da soma são simplesmente uma `Progressão Geométrica finita`, de razão $3^2$ e $2^2$, respectivamente, a qual podemos obter o valor atráves de fórmula fechada:\n",
    "$$\n",
    "S_{n} = \\frac{a_1(q^n - 1)}{q-1}\n",
    "$$\n",
    "onde $a_1$ é o primeiro termo da PG, e $q$ é a razão<br>\n",
    "Para o último termo, envolvendo uma soma de logs, usamos a propriedade dos logaritmos:\n",
    "$$\n",
    "\\sum^n \\ln(i) = \\ln\\left(\\prod^n i\\right) = \\ln(n!)\n",
    "$$\n",
    "o problema é que não estamos lidando com uma soma de logaritmos consecutivos, mas apenas os valores ímpares, precisamos então derivar uma expressão em termos de fatoriais ímpares\n",
    "$$\\prod_{k=1}^n(2k-1) = \\prod_{k=1}^n(2k-1) \\frac{\\prod_{k=1}^n(2k)}{\\prod_{k=1}^n(2k)} =\\frac{\\prod_{k=1}^{2n}k}{2^n\\prod_{k=1}^n k} =  \\frac{(2n)!}{2^n n!}$$\n",
    "e então\n",
    "$$\n",
    "\\sum^n \\ln(i) = \\ln\\left(\\frac{(2n)!}{2^n n!}\\right)\n",
    "$$\n",
    "O termo para o qual não conseguiremos uma fórmula fechada é o somatório de fatoriais, a média do vetor então será:\n",
    "\n",
    "$$\n",
    "M = \\frac{1}{10}\\left(\\frac{(9^5 - 1)}{9-1} + 2\\frac{(4^5 - 1)}{4-1} + 4\\ln\\left(\\frac{(2\\cdot 10)!}{2^{10} 10!}\\right) + 7\\sum_{i=0}^{\\frac{n-1}{2}}(2i)! \\right) \n",
    "$$"
   ]
  },
  {
   "cell_type": "code",
   "execution_count": 8,
   "metadata": {},
   "outputs": [],
   "source": [
    "def vetorX(n = 10):\n",
    "    X = [3**i+7*np.math.gamma(i+1) if i%2 == 0 else 2**i+4*np.log(i) for i in range(n)]\n",
    "    print(f'O indice do maior valor no vetor é {np.argmax(X)}, sua média é {np.mean(X):.2f}')\n",
    "    return X"
   ]
  },
  {
   "cell_type": "code",
   "execution_count": 9,
   "metadata": {},
   "outputs": [
    {
     "name": "stdout",
     "output_type": "stream",
     "text": [
      "O indice do maior valor no vetor é 8, sua média é 29555.94\n",
      "CPU times: user 750 µs, sys: 0 ns, total: 750 µs\n",
      "Wall time: 629 µs\n"
     ]
    },
    {
     "data": {
      "text/plain": [
       "[8.0,\n",
       " 2.0,\n",
       " 23.0,\n",
       " 12.39444915467244,\n",
       " 249.0,\n",
       " 38.4377516497364,\n",
       " 5769.0,\n",
       " 135.78364059622126,\n",
       " 288801.0,\n",
       " 520.7888983093449]"
      ]
     },
     "execution_count": 9,
     "metadata": {},
     "output_type": "execute_result"
    }
   ],
   "source": [
    "%%time\n",
    "vetorX()"
   ]
  },
  {
   "cell_type": "code",
   "execution_count": 10,
   "metadata": {},
   "outputs": [],
   "source": [
    "def vetorXMat(n = 10):\n",
    "    pg1 = (3**(n)-1)/(3**2 -1)\n",
    "    pg2 = 2*(2**n-1)/(2**(2)-1)\n",
    "    log = 4*np.log(np.math.gamma(2*(n/2))/(2**(n/2) * np.math.factorial(n/2)) + 1)\n",
    "    fact = np.array([7*np.math.gamma(i+1) for i in range(n) if i%2 == 0]).sum()\n",
    "    print(f'O indice do maior valor no vetor é {(n-1)-(n-1)%2}, sua média é {(1/n * (pg1+pg2+log+fact)):.2f}')\n",
    "    return None"
   ]
  },
  {
   "cell_type": "code",
   "execution_count": 11,
   "metadata": {},
   "outputs": [
    {
     "name": "stdout",
     "output_type": "stream",
     "text": [
      "CPU times: user 5 µs, sys: 2 µs, total: 7 µs\n",
      "Wall time: 12.9 µs\n",
      "O indice do maior valor no vetor é 8, sua média é 29555.02\n"
     ]
    }
   ],
   "source": [
    "%time\n",
    "vetorXMat()"
   ]
  },
  {
   "cell_type": "markdown",
   "metadata": {},
   "source": [
    "---\n",
    "# 03"
   ]
  },
  {
   "cell_type": "code",
   "execution_count": 12,
   "metadata": {},
   "outputs": [],
   "source": [
    "def nota(n = 5):\n",
    "    notas = []\n",
    "    for i in range(1,n+1):\n",
    "        while True:\n",
    "            try:\n",
    "                nota_aluno = (float(input('Insira a nota do aluno ' + str(i) +' ')))\n",
    "                break\n",
    "            except:\n",
    "                print(\"Nota deve ser um valor númerico! Tente novamente\")\n",
    "        notas.append(nota_aluno)\n",
    "    dic_notas = dict(zip(range(1,n+1), notas))\n",
    "    maiorNota = max(dic_notas, key=dic_notas.get)\n",
    "    print(f'O aluno com a maior nota é o aluno {maiorNota}, sua nota foi: {dic_notas[maiorNota]}')\n",
    "    return dic_notas"
   ]
  },
  {
   "cell_type": "code",
   "execution_count": 13,
   "metadata": {},
   "outputs": [
    {
     "name": "stdout",
     "output_type": "stream",
     "text": [
      "Insira a nota do aluno 1 1\n",
      "Insira a nota do aluno 2 2\n",
      "Insira a nota do aluno 3 3\n",
      "Insira a nota do aluno 4 4\n",
      "Insira a nota do aluno 5 5\n",
      "O aluno com a maior nota é o aluno 5, sua nota foi: 5.0\n"
     ]
    },
    {
     "data": {
      "text/plain": [
       "{1: 1.0, 2: 2.0, 3: 3.0, 4: 4.0, 5: 5.0}"
      ]
     },
     "execution_count": 13,
     "metadata": {},
     "output_type": "execute_result"
    }
   ],
   "source": [
    "nota()"
   ]
  }
 ],
 "metadata": {
  "kernelspec": {
   "display_name": "Python 3",
   "language": "python",
   "name": "python3"
  },
  "language_info": {
   "codemirror_mode": {
    "name": "ipython",
    "version": 3
   },
   "file_extension": ".py",
   "mimetype": "text/x-python",
   "name": "python",
   "nbconvert_exporter": "python",
   "pygments_lexer": "ipython3",
   "version": "3.8.6"
  }
 },
 "nbformat": 4,
 "nbformat_minor": 2
}
